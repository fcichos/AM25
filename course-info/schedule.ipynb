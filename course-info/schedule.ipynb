{
  "cells": [
    {
      "cell_type": "markdown",
      "metadata": {},
      "source": [
        "# Course Schedule\n",
        "\n",
        "This course is a master course in physics to introduce into the field of\n",
        "active matter. The course is comprising a series of lectures and\n",
        "exercise sessions, which allow students to apply the concepts learned in\n",
        "the lectures to real-world problems.\n",
        "\n",
        "The **lectures** will take place in person every\n",
        "\n",
        "**Thursday, 9:15 AM SR 224**\n",
        "\n",
        "starting April 10th.\n",
        "\n",
        "The **seminars** will take place in person every\n",
        "\n",
        "**XXX, 10:00 AM SR 224**\n",
        "\n",
        "starting April 1Xth.\n",
        "\n",
        "The **exam** will be oral and dates witll be provided during the lecture\n",
        "period."
      ],
      "id": "a0db86b2-ba34-45c3-bb5a-f9fa2f10bdf4"
    }
  ],
  "nbformat": 4,
  "nbformat_minor": 5,
  "metadata": {
    "kernelspec": {
      "display_name": "Python 3",
      "language": "python",
      "name": "python3"
    }
  }
}