{
  "cells": [
    {
      "cell_type": "markdown",
      "metadata": {},
      "source": [
        "# Course Information\n",
        "\n",
        "# Vorlesender\n",
        "\n",
        "Email: *lastname@physik.uni-leipzig.de*\n",
        "\n",
        "-   Prof. Dr. Frank Cichos\n",
        "\n",
        "    -   Linnéstr. 5, 04103 Leipzig\n",
        "    -   Office: 322\n",
        "    -   Phone: +0341 97 32571"
      ],
      "id": "5027748b-936b-4542-8dc8-eb8b8d854d70"
    }
  ],
  "nbformat": 4,
  "nbformat_minor": 5,
  "metadata": {
    "kernelspec": {
      "display_name": "Python 3",
      "language": "python",
      "name": "python3"
    }
  }
}